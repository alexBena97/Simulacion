{
 "cells": [
  {
   "cell_type": "markdown",
   "metadata": {},
   "source": [
    "# NOMBRE: ALEX BENAVIDEZ \n",
    "# CARRERA: INGENIERIA EN SISTEMAS \n",
    "# MATERIA: SIMULACION\n",
    "# PROFESOR: DIEGO QUISI "
   ]
  },
  {
   "cell_type": "code",
   "execution_count": 34,
   "metadata": {},
   "outputs": [],
   "source": [
    "# Imports necesarios\n",
    "import numpy as np\n",
    "import pandas as pd\n",
    "import seaborn as sb\n",
    "import matplotlib.pyplot as plt\n",
    "%matplotlib inline\n",
    "from mpl_toolkits.mplot3d import Axes3D\n",
    "from matplotlib import cm\n",
    "plt.rcParams['figure.figsize'] = (16, 9)\n",
    "plt.style.use('ggplot')\n",
    "from sklearn import linear_model\n",
    "from sklearn.metrics import mean_squared_error, r2_score \n",
    "from facebook_scraper import get_posts"
   ]
  },
  {
   "cell_type": "markdown",
   "metadata": {},
   "source": [
    "### Obtenemos la informacion de Facebook de los candidatos"
   ]
  },
  {
   "cell_type": "code",
   "execution_count": 51,
   "metadata": {
    "scrolled": false
   },
   "outputs": [],
   "source": [
    "posts = [] \n",
    "# Obtenemos la información de las publicaciones\n",
    "for post in get_posts('yakuperezoficial', pages=10):\n",
    "        post['Word count'] = len(post['text'])\n",
    "        posts.append(post)      \n",
    "\n",
    "for post in get_posts('LassoGuillermo', pages=10):\n",
    "        post['Word count'] = len(post['text'])\n",
    "        posts.append(post)   \n",
    "#print(posts)\n",
    "fb_posts = pd.DataFrame(posts)"
   ]
  },
  {
   "cell_type": "code",
   "execution_count": 53,
   "metadata": {},
   "outputs": [
    {
     "data": {
      "text/html": [
       "<div>\n",
       "<style scoped>\n",
       "    .dataframe tbody tr th:only-of-type {\n",
       "        vertical-align: middle;\n",
       "    }\n",
       "\n",
       "    .dataframe tbody tr th {\n",
       "        vertical-align: top;\n",
       "    }\n",
       "\n",
       "    .dataframe thead th {\n",
       "        text-align: right;\n",
       "    }\n",
       "</style>\n",
       "<table border=\"1\" class=\"dataframe\">\n",
       "  <thead>\n",
       "    <tr style=\"text-align: right;\">\n",
       "      <th></th>\n",
       "      <th>likes</th>\n",
       "      <th>comments</th>\n",
       "      <th>shares</th>\n",
       "      <th>Word count</th>\n",
       "    </tr>\n",
       "  </thead>\n",
       "  <tbody>\n",
       "    <tr>\n",
       "      <th>count</th>\n",
       "      <td>76.000000</td>\n",
       "      <td>76.000000</td>\n",
       "      <td>76.000000</td>\n",
       "      <td>76.000000</td>\n",
       "    </tr>\n",
       "    <tr>\n",
       "      <th>mean</th>\n",
       "      <td>1629.473684</td>\n",
       "      <td>338.184211</td>\n",
       "      <td>124.592105</td>\n",
       "      <td>229.552632</td>\n",
       "    </tr>\n",
       "    <tr>\n",
       "      <th>std</th>\n",
       "      <td>748.562257</td>\n",
       "      <td>387.008965</td>\n",
       "      <td>291.489882</td>\n",
       "      <td>104.305244</td>\n",
       "    </tr>\n",
       "    <tr>\n",
       "      <th>min</th>\n",
       "      <td>434.000000</td>\n",
       "      <td>32.000000</td>\n",
       "      <td>0.000000</td>\n",
       "      <td>0.000000</td>\n",
       "    </tr>\n",
       "    <tr>\n",
       "      <th>25%</th>\n",
       "      <td>1161.750000</td>\n",
       "      <td>84.500000</td>\n",
       "      <td>0.000000</td>\n",
       "      <td>161.500000</td>\n",
       "    </tr>\n",
       "    <tr>\n",
       "      <th>50%</th>\n",
       "      <td>1542.000000</td>\n",
       "      <td>181.000000</td>\n",
       "      <td>0.000000</td>\n",
       "      <td>231.500000</td>\n",
       "    </tr>\n",
       "    <tr>\n",
       "      <th>75%</th>\n",
       "      <td>1954.000000</td>\n",
       "      <td>398.750000</td>\n",
       "      <td>0.000000</td>\n",
       "      <td>285.500000</td>\n",
       "    </tr>\n",
       "    <tr>\n",
       "      <th>max</th>\n",
       "      <td>4934.000000</td>\n",
       "      <td>1833.000000</td>\n",
       "      <td>1103.000000</td>\n",
       "      <td>518.000000</td>\n",
       "    </tr>\n",
       "  </tbody>\n",
       "</table>\n",
       "</div>"
      ],
      "text/plain": [
       "             likes     comments       shares  Word count\n",
       "count    76.000000    76.000000    76.000000   76.000000\n",
       "mean   1629.473684   338.184211   124.592105  229.552632\n",
       "std     748.562257   387.008965   291.489882  104.305244\n",
       "min     434.000000    32.000000     0.000000    0.000000\n",
       "25%    1161.750000    84.500000     0.000000  161.500000\n",
       "50%    1542.000000   181.000000     0.000000  231.500000\n",
       "75%    1954.000000   398.750000     0.000000  285.500000\n",
       "max    4934.000000  1833.000000  1103.000000  518.000000"
      ]
     },
     "execution_count": 53,
     "metadata": {},
     "output_type": "execute_result"
    }
   ],
   "source": [
    "# Ahora veamos algunas estadísticas de nuestros datos\n",
    "fb_posts.describe()"
   ]
  },
  {
   "cell_type": "code",
   "execution_count": 54,
   "metadata": {},
   "outputs": [
    {
     "data": {
      "image/png": "[encoded data removed]",
      "text/plain": [
       "<Figure size 432x288 with 4 Axes>"
      ]
     },
     "metadata": {
      "needs_background": "light"
     },
     "output_type": "display_data"
    }
   ],
   "source": [
    "# Visualizamos rápidamente las caraterísticas de entrada\n",
    "fb_posts.drop(['post_id','post_url', 'time'],1).hist()\n",
    "plt.show()"
   ]
  },
  {
   "cell_type": "code",
   "execution_count": 55,
   "metadata": {},
   "outputs": [
    {
     "data": {
      "image/png": "[encoded data removed]",
      "text/plain": [
       "<Figure size 432x288 with 1 Axes>"
      ]
     },
     "metadata": {
      "needs_background": "light"
     },
     "output_type": "display_data"
    },
    {
     "data": {
      "text/plain": [
       "<Figure size 360x360 with 0 Axes>"
      ]
     },
     "metadata": {},
     "output_type": "display_data"
    }
   ],
   "source": [
    "filtered_data = fb_posts[(fb_posts['Word count'] <= 3500) & (fb_posts['likes'] <= 80000)]\n",
    "\n",
    "colores=['orange','blue']\n",
    "tamanios=[30,20]\n",
    "\n",
    "f1 = filtered_data['Word count'].values\n",
    "f2 = filtered_data['likes'].values\n",
    "\n",
    "# Vamos a pintar en colores los puntos por debajo y por encima de la media de Cantidad de Palabras\n",
    "asignar=[]\n",
    "for index, row in filtered_data.iterrows():\n",
    "    if(row['Word count']>200):\n",
    "        asignar.append(colores[0])\n",
    "    else:\n",
    "        asignar.append(colores[1])\n",
    "    \n",
    "plt.scatter(f1, f2, c=asignar, s=tamanios[0]) \n",
    "plt.figure(figsize=(5,5))\n",
    "plt.show()\n",
    "\n"
   ]
  },
  {
   "cell_type": "markdown",
   "metadata": {},
   "source": [
    "### Realizamos la regresion lineal simple"
   ]
  },
  {
   "cell_type": "code",
   "execution_count": 56,
   "metadata": {},
   "outputs": [
    {
     "name": "stdout",
     "output_type": "stream",
     "text": [
      "Coefficients: \n",
      " [1.4653123]\n",
      "Independent term: \n",
      " 1293.107389201612\n",
      "Mean squared error: 529919.86\n",
      "Variance score: 0.04\n"
     ]
    }
   ],
   "source": [
    "dataX =filtered_data[[\"Word count\"]]\n",
    "X_train = np.array(dataX)\n",
    "y_train = filtered_data['likes'].values\n",
    " \n",
    "# Creamos el objeto de Regresión Linear\n",
    "regr = linear_model.LinearRegression()\n",
    " \n",
    "# Entrenamos nuestro modelo\n",
    "regr.fit(X_train, y_train)\n",
    " \n",
    "# Hacemos las predicciones que en definitiva una línea (en este caso, al ser 2D)\n",
    "y_pred = regr.predict(X_train)\n",
    " \n",
    "# Veamos los coeficienetes obtenidos, En nuestro caso, serán la Tangente\n",
    "print('Coefficients: \\n', regr.coef_)\n",
    "# Este es el valor donde corta el eje Y (en X=0)\n",
    "print('Independent term: \\n', regr.intercept_)\n",
    "# Error Cuadrado Medio\n",
    "print(\"Mean squared error: %.2f\" % mean_squared_error(y_train, y_pred))\n",
    "# Puntaje de Varianza. El mejor puntaje es un 1.0\n",
    "print('Variance score: %.2f' % r2_score(y_train, y_pred))"
   ]
  },
  {
   "cell_type": "markdown",
   "metadata": {},
   "source": [
    "### Visualizamos La recta obtenida"
   ]
  },
  {
   "cell_type": "code",
   "execution_count": 57,
   "metadata": {},
   "outputs": [
    {
     "data": {
      "image/png": "[encoded data removed]",
      "text/plain": [
       "<Figure size 432x288 with 1 Axes>"
      ]
     },
     "metadata": {
      "needs_background": "light"
     },
     "output_type": "display_data"
    }
   ],
   "source": [
    "plt.scatter(X_train[:,0], y_train,  c=asignar, s=tamanios[0])\n",
    "plt.plot(X_train[:,0], y_pred, color='red', linewidth=3)\n",
    "\n",
    "plt.xlabel('Total de palabras')\n",
    "plt.ylabel('compartido')\n",
    "plt.title('Regresión Lineal')\n",
    "\n",
    "plt.show()"
   ]
  },
  {
   "cell_type": "markdown",
   "metadata": {},
   "source": [
    "### Realizamos la primera prediccion"
   ]
  },
  {
   "cell_type": "markdown",
   "metadata": {},
   "source": [
    "### Vamos a intentar probar nuestro algoritmo, suponiendo que quisiéramos predecir cuántos “compartir” obtendrá un articulo sobre ML de 2000 palabras"
   ]
  },
  {
   "cell_type": "code",
   "execution_count": 58,
   "metadata": {},
   "outputs": [
    {
     "name": "stdout",
     "output_type": "stream",
     "text": [
      "4223\n"
     ]
    }
   ],
   "source": [
    "y_Dosmil = regr.predict([[2000]])\n",
    "print(int(y_Dosmil))"
   ]
  },
  {
   "cell_type": "markdown",
   "metadata": {},
   "source": [
    "### Regresion lineal con variables variables"
   ]
  },
  {
   "cell_type": "code",
   "execution_count": 59,
   "metadata": {},
   "outputs": [],
   "source": [
    "suma = (filtered_data[\"shares\"] + filtered_data['comments'].fillna(0)) \n",
    " \n",
    "dataX2 =  pd.DataFrame()\n",
    "dataX2[\"Word count\"] = filtered_data[\"Word count\"]\n",
    "dataX2[\"suma\"] = suma\n",
    "XY_train = np.array(dataX2)\n",
    "z_train = filtered_data['likes'].values"
   ]
  },
  {
   "cell_type": "code",
   "execution_count": 60,
   "metadata": {},
   "outputs": [
    {
     "name": "stdout",
     "output_type": "stream",
     "text": [
      "Coefficients: \n",
      " [2.06111003 0.34659325]\n",
      "Mean squared error: 485055.70\n",
      "Variance score: 0.12\n"
     ]
    }
   ],
   "source": [
    "# Creamos un nuevo objeto de Regresión Lineal\n",
    "regr2 = linear_model.LinearRegression()\n",
    " \n",
    "# Entrenamos el modelo, esta vez, con 2 dimensiones\n",
    "# obtendremos 2 coeficientes, para graficar un plano\n",
    "regr2.fit(XY_train, z_train)\n",
    " \n",
    "# Hacemos la predicción con la que tendremos puntos sobre el plano hallado\n",
    "z_pred = regr2.predict(XY_train)\n",
    " \n",
    "# Los coeficientes\n",
    "print('Coefficients: \\n', regr2.coef_)\n",
    "# Error cuadrático medio\n",
    "print(\"Mean squared error: %.2f\" % mean_squared_error(z_train, z_pred))\n",
    "# Evaluamos el puntaje de varianza (siendo 1.0 el mejor posible)\n",
    "print('Variance score: %.2f' % r2_score(z_train, z_pred))"
   ]
  },
  {
   "cell_type": "code",
   "execution_count": 61,
   "metadata": {},
   "outputs": [
    {
     "data": {
      "text/plain": [
       "Text(0.5, 0.92, 'Regresión Lineal con Múltiples Variables')"
      ]
     },
     "execution_count": 61,
     "metadata": {},
     "output_type": "execute_result"
    },
    {
     "data": {
      "image/png": "[encoded data removed]",
      "text/plain": [
       "<Figure size 432x288 with 1 Axes>"
      ]
     },
     "metadata": {
      "needs_background": "light"
     },
     "output_type": "display_data"
    }
   ],
   "source": [
    "fig = plt.figure()\n",
    "ax = Axes3D(fig)\n",
    " \n",
    "# Creamos una malla, sobre la cual graficaremos el plano\n",
    "xx, yy = np.meshgrid(np.linspace(0, 3500, num=10), np.linspace(0, 60, num=10))\n",
    " \n",
    "# calculamos los valores del plano para los puntos x e y\n",
    "nuevoX = (regr2.coef_[0] * xx)\n",
    "nuevoY = (regr2.coef_[1] * yy) \n",
    " \n",
    "# calculamos los correspondientes valores para z. Debemos sumar el punto de intercepción\n",
    "z = (nuevoX + nuevoY + regr2.intercept_)\n",
    " \n",
    "# Graficamos el plano\n",
    "ax.plot_surface(xx, yy, z, alpha=0.2, cmap='hot')\n",
    " \n",
    "# Graficamos en azul los puntos en 3D\n",
    "ax.scatter(XY_train[:, 0], XY_train[:, 1], z_train, c='blue',s=30)\n",
    " \n",
    "# Graficamos en rojo, los puntos que \n",
    "ax.scatter(XY_train[:, 0], XY_train[:, 1], z_pred, c='red',s=40)\n",
    " \n",
    "# con esto situamos la \"camara\" con la que visualizamos\n",
    "ax.view_init(elev=30., azim=65)\n",
    "        \n",
    "ax.set_xlabel('Cantidad de Palabras')\n",
    "ax.set_ylabel('Cantidad de Enlaces,Comentarios e Imagenes')\n",
    "ax.set_zlabel('Compartido en Redes')\n",
    "ax.set_title('Regresión Lineal con Múltiples Variables')"
   ]
  },
  {
   "cell_type": "markdown",
   "metadata": {},
   "source": [
    "### Realizamos la segunda prediccion"
   ]
  },
  {
   "cell_type": "markdown",
   "metadata": {},
   "source": [
    "### Veamos ahora, que predicción tendremos para un artículo de 2000 palabras, con 10 enlaces, 4 comentarios y 6 imágenes."
   ]
  },
  {
   "cell_type": "code",
   "execution_count": 62,
   "metadata": {},
   "outputs": [
    {
     "name": "stdout",
     "output_type": "stream",
     "text": [
      "5125\n"
     ]
    }
   ],
   "source": [
    "z_Dosmil = regr2.predict([[2000, 10+4+6]])\n",
    "print(int(z_Dosmil))"
   ]
  },
  {
   "cell_type": "markdown",
   "metadata": {},
   "source": [
    "# Simulacion de proceso de  votacion"
   ]
  },
  {
   "cell_type": "code",
   "execution_count": 64,
   "metadata": {},
   "outputs": [
    {
     "name": "stdout",
     "output_type": "stream",
     "text": [
      "Votacion UPS\n",
      "Ha llegado el votante: [votante-1]\n",
      "Ha llegado el votante: [votante-2]\n",
      "Ha llegado el votante: [votante-3]\n",
      "Ha llegado el votante: [votante-4]\n",
      "Ha llegado el votante: [votante-5]\n",
      "-- Ha entrado [votante-1] a sufragar:\n",
      "-->La persona [votante-1] ya terminó de sufragar\n",
      "-->La persona [votante-1] ha recibido su certificado de votacion\n",
      "-->La persona [votante-1] ha salido del Recinto Electoral.\n",
      "-- Ha entrado [votante-2] a sufragar:\n",
      "-->La persona [votante-2] ya terminó de sufragar\n",
      "-->La persona [votante-2] ha recibido su certificado de votacion\n",
      "-->La persona [votante-2] ha salido del Recinto Electoral.\n",
      "-- Ha entrado [votante-3] a sufragar:\n",
      "-->La persona [votante-3] ya terminó de sufragar\n",
      "-->La persona [votante-3] ha recibido su certificado de votacion\n",
      "-->La persona [votante-3] ha salido del Recinto Electoral.\n",
      "-- Ha entrado [votante-4] a sufragar:\n",
      "-->La persona [votante-4] ya terminó de sufragar\n",
      "-->La persona [votante-4] ha recibido su certificado de votacion\n",
      "-->La persona [votante-4] ha salido del Recinto Electoral.\n",
      "-- Ha entrado [votante-5] a sufragar:\n",
      "Ha llegado el votante: [votante-6]\n",
      "Ha llegado el votante: [votante-7]\n",
      "-->La persona [votante-5] ya terminó de sufragar\n",
      "-->La persona [votante-5] ha recibido su certificado de votacion\n",
      "-->La persona [votante-5] ha salido del Recinto Electoral.\n",
      "-- Ha entrado [votante-6] a sufragar:\n",
      "Ha llegado el votante: [votante-8]\n",
      "-->La persona [votante-6] ya terminó de sufragar\n",
      "-->La persona [votante-6] ha recibido su certificado de votacion\n",
      "-->La persona [votante-6] ha salido del Recinto Electoral.\n",
      "-- Ha entrado [votante-7] a sufragar:\n",
      "Ha llegado el votante: [votante-9]\n",
      "-->La persona [votante-7] ya terminó de sufragar\n",
      "-->La persona [votante-7] ha recibido su certificado de votacion\n",
      "-->La persona [votante-7] ha salido del Recinto Electoral.\n",
      "-- Ha entrado [votante-8] a sufragar:\n",
      "Ha llegado el votante: [votante-10]\n",
      "-->La persona [votante-8] ya terminó de sufragar\n",
      "-->La persona [votante-8] ha recibido su certificado de votacion\n",
      "-->La persona [votante-8] ha salido del Recinto Electoral.\n",
      "-- Ha entrado [votante-9] a sufragar:\n",
      "Ha llegado el votante: [votante-11]\n",
      "Ha llegado el votante: [votante-12]\n",
      "Ha llegado el votante: [votante-13]\n",
      "Ha llegado el votante: [votante-14]\n",
      "-->La persona [votante-9] ya terminó de sufragar\n",
      "-->La persona [votante-9] ha recibido su certificado de votacion\n",
      "-->La persona [votante-9] ha salido del Recinto Electoral.\n",
      "-- Ha entrado [votante-10] a sufragar:\n",
      "-->La persona [votante-10] ya terminó de sufragar\n",
      "-->La persona [votante-10] ha recibido su certificado de votacion\n",
      "-->La persona [votante-10] ha salido del Recinto Electoral.\n",
      "-- Ha entrado [votante-11] a sufragar:\n",
      "Ha llegado el votante: [votante-15]\n",
      "Ha llegado el votante: [votante-16]\n",
      "Ha llegado el votante: [votante-17]\n",
      "-->La persona [votante-11] ya terminó de sufragar\n",
      "-->La persona [votante-11] ha recibido su certificado de votacion\n",
      "-->La persona [votante-11] ha salido del Recinto Electoral.\n",
      "-- Ha entrado [votante-12] a sufragar:\n",
      "Ha llegado el votante: [votante-18]\n",
      "Ha llegado el votante: [votante-19]\n",
      "Diccionario  de votos:\n",
      "{'votante-1': 2, 'votante-2': 1, 'votante-3': 2, 'votante-4': 3, 'votante-5': 1, 'votante-6': 1, 'votante-7': 3, 'votante-8': 2, 'votante-9': 2, 'votante-10': 1, 'votante-11': 3}\n"
     ]
    }
   ],
   "source": [
    "import simpy\n",
    "import random\n",
    "import matplotlib.pyplot as pp\n",
    "import random\n",
    "%matplotlib inline\n",
    "\n",
    "MAXIMO_VOTANTES = 1\n",
    "NUMERO_MESA_ELECTORAL = 1\n",
    "TIEMPO_DE_VOTACION = 5\n",
    "INTERVALO_TIEMPO_LLEGADA = 3\n",
    "TIEMPO_DE_SIMULACION = 35\n",
    "votos = {}\n",
    "class Votacion(object):\n",
    "\n",
    "    def __init__(self, environment, numero_mesa_electoral, tiempovotacion):\n",
    "        self.env = environment\n",
    "        self.mesa = simpy.Resource(environment, numero_mesa_electoral)\n",
    "        self.tiempo_votacion = tiempovotacion\n",
    "\n",
    "    def atencion_al_votante(self, votante):\n",
    "        yield self.env.timeout(random.randint(TIEMPO_DE_VOTACION - 5, TIEMPO_DE_VOTACION + 5))\n",
    "\n",
    "\n",
    "def llegada_de_votante(env, nom, Votacion):\n",
    "    print('Ha llegado el votante: [%s]' % (nom))\n",
    "    with Votacion.mesa.request() as maquina:\n",
    "        yield maquina\n",
    "        print('-- Ha entrado [%s] a sufragar:' % (nom))\n",
    "        yield env.process(Votacion.atencion_al_votante(nom))\n",
    "        print('-->La persona [%s] ya terminó de sufragar'%(nom))\n",
    "        print('-->La persona [%s] ha recibido su certificado de votacion'%(nom))\n",
    "        print('-->La persona [%s] ha salido del Recinto Electoral.'%(nom))\n",
    "        votos[nom] = random.randint(1, 3)\n",
    "\n",
    "def ejecutar_simulacion(env, numero_mesa_electoral, tiempo_de_votacion, intervalo_tiempo):\n",
    "    votacion = Votacion(env, numero_mesa_electoral, tiempo_de_votacion)\n",
    "    for i in range(5):\n",
    "        env.process(llegada_de_votante(env, 'votante-%d' % (i + 1), votacion))\n",
    "\n",
    "    while True:\n",
    "        yield env.timeout(random.randint(intervalo_tiempo - 3, intervalo_tiempo + 3))\n",
    "        i += 1\n",
    "        env.process(llegada_de_votante(env, 'votante-%d' % (i + 1), votacion))\n",
    "\n",
    "\n",
    "print('Votacion UPS')\n",
    "\n",
    "env = simpy.Environment()\n",
    "env.process(ejecutar_simulacion(env, NUMERO_MESA_ELECTORAL, TIEMPO_DE_VOTACION, INTERVALO_TIEMPO_LLEGADA))\n",
    "\n",
    "env.run(until=TIEMPO_DE_SIMULACION)\n",
    "\n",
    "print(\"Diccionario  de votos:\")\n",
    "print(votos)"
   ]
  },
  {
   "cell_type": "markdown",
   "metadata": {},
   "source": [
    "# CONCLUSION \n",
    "\n",
    "Se a podido obtener la informacion necesaria de la red social facebook de candidatos y realizar regresion lineal para predecir utilizando determinados datos obtenidos. Seguidamente se ha desarrollado una simulacion del proceso de votacion\n"
   ]
  },
  {
   "cell_type": "markdown",
   "metadata": {},
   "source": [
    "## Referencias:\n",
    "\n",
    "[1]: https://www.ncbi.nlm.nih.gov/pmc/articles/PMC6291769/\n",
    "[2]: https://www.aprendemachinelearning.com/regresion-lineal-en-espanol-con-python/\n",
    "[3]: https://eprints.ucm.es/48804/1/TFM%20Manuel%20Alejandro%20Rodriguez%20Santana.pdf\n",
    "[4]: http://opac.pucv.cl/pucv_txt/txt-8000/UCC8094_01.pdf\n"
   ]
  },
  {
   "cell_type": "markdown",
   "metadata": {},
   "source": [
    "- https://www.ncbi.nlm.nih.gov/pmc/articles/PMC6291769/\n",
    "- https://www.aprendemachinelearning.com/regresion-lineal-en-espanol-con-python/- \n",
    "- https://eprints.ucm.es/48804/1/TFM%20Manuel%20Alejandro%20Rodriguez%20Santana.pdf- \n",
    "- http://opac.pucv.cl/pucv_txt/txt-8000/UCC8094_01.pdf"
   ]
  }
 ],
 "metadata": {
  "kernelspec": {
   "display_name": "Python 3",
   "language": "python",
   "name": "python3"
  },
  "language_info": {
   "codemirror_mode": {
    "name": "ipython",
    "version": 3
   },
   "file_extension": ".py",
   "mimetype": "text/x-python",
   "name": "python",
   "nbconvert_exporter": "python",
   "pygments_lexer": "ipython3",
   "version": "3.7.9"
  }
 },
 "nbformat": 4,
 "nbformat_minor": 4
}
