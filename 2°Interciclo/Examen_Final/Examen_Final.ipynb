{
 "cells": [
  {
   "cell_type": "markdown",
   "id": "elegant-eligibility",
   "metadata": {},
   "source": [
    "### NOMBRE: ALEX BENAVIDEZ \n",
    "### MATERIA: SIMULACION \n",
    "### PROFESOR: DIEGO QUISI"
   ]
  },
  {
   "cell_type": "code",
   "execution_count": 1,
   "id": "rural-ending",
   "metadata": {},
   "outputs": [
    {
     "name": "stdout",
     "output_type": "stream",
     "text": [
      "Collecting selenium\n",
      "  Downloading selenium-3.141.0-py2.py3-none-any.whl (904 kB)\n",
      "Collecting urllib3\n",
      "  Downloading urllib3-1.26.3-py2.py3-none-any.whl (137 kB)\n",
      "Installing collected packages: urllib3, selenium\n",
      "Successfully installed selenium-3.141.0 urllib3-1.26.3\n"
     ]
    }
   ],
   "source": [
    "!pip install selenium"
   ]
  },
  {
   "cell_type": "code",
   "execution_count": 3,
   "id": "handled-wayne",
   "metadata": {},
   "outputs": [
    {
     "name": "stdout",
     "output_type": "stream",
     "text": [
      "Collecting pandas\n",
      "  Downloading pandas-1.2.1-cp37-cp37m-win_amd64.whl (9.1 MB)\n",
      "Requirement already satisfied: numpy>=1.16.5 in c:\\users\\alex-\\anaconda3\\envs\\simulacion\\lib\\site-packages (from pandas) (1.19.5)\n",
      "Requirement already satisfied: python-dateutil>=2.7.3 in c:\\users\\alex-\\anaconda3\\envs\\simulacion\\lib\\site-packages (from pandas) (2.8.1)\n",
      "Requirement already satisfied: six>=1.5 in c:\\users\\alex-\\anaconda3\\envs\\simulacion\\lib\\site-packages (from python-dateutil>=2.7.3->pandas) (1.15.0)\n",
      "Collecting pytz>=2017.3\n",
      "  Downloading pytz-2021.1-py2.py3-none-any.whl (510 kB)\n",
      "Installing collected packages: pytz, pandas\n",
      "Successfully installed pandas-1.2.1 pytz-2021.1\n"
     ]
    }
   ],
   "source": [
    "!pip install pandas"
   ]
  },
  {
   "cell_type": "code",
   "execution_count": 20,
   "id": "collectible-values",
   "metadata": {},
   "outputs": [],
   "source": [
    "import pandas as pd\n",
    "import smtplib\n",
    "import email.message"
   ]
  },
  {
   "cell_type": "code",
   "execution_count": 21,
   "id": "contemporary-element",
   "metadata": {
    "scrolled": false
   },
   "outputs": [],
   "source": [
    "def enviarCorreo():\n",
    "    sheet_url = 'https://docs.google.com/spreadsheets/d/1wJDzu3zLo6t-KLwEwoqRw2sikS5CS_pNn9rgYJauQLI/edit#gid=254616902'  \n",
    "    csv_export_url = sheet_url.replace('/edit#gid=', '/export?format=csv&gid=')\n",
    "    df=pd.read_csv(csv_export_url)\n",
    "    dest=[i[0]+\" \"+i[1]+\" <\"+i[2]+\">\" for i in df.values]\n",
    "    server = smtplib.SMTP('smtp.gmail.com:587')\n",
    "\n",
    "    email_content = \"\"\"\n",
    "    <html>\n",
    "\n",
    "    <head>\n",
    "        <title>Elecciones 2021</title>\n",
    "    </head>\n",
    "\n",
    "    <body>\n",
    "        <table id=\"header\" align=\"center\" bgcolor=\"FFE633\">\n",
    "            <tr>\n",
    "                <td width=\"400\" align=\"center\">\n",
    "                    <h1>Candidato Presidencial Elecciones Febrero 2021 </h1>\n",
    "                </td>  \n",
    "            </tr> \n",
    "            <tr>\n",
    "                <td style=\"padding:5px;\" align=\"center\">\n",
    "                    <img src=\"https://drive.google.com/uc?id=16k6TJOJaDGbbKZb8AQVOzhkDo0x8lseP\" width=\"400\"\n",
    "                        height=\"400\" />\n",
    "                </td>\n",
    "            </tr>\n",
    "        </table>\n",
    "\n",
    "    </body>\n",
    "\n",
    "    </html>\n",
    "    \"\"\"\n",
    "\n",
    "    msg = email.message.Message()\n",
    "    msg['Subject'] = 'Lista 18'\n",
    "    msg['From'] = 'Alex Benavidez <alexbenavidezalvarado5@gmail.com>'\n",
    "    msg.add_header('Content-Type', 'text/html')\n",
    "    msg.set_payload(email_content)\n",
    "    s = smtplib.SMTP('smtp.gmail.com:587')\n",
    "    s.starttls()\n",
    "    pss = \"656664321\"\n",
    "    s.login('alexbenavidezalvarado5@gmail.com', pss)\n",
    "    s.sendmail(msg['From'], dest, msg.as_string())"
   ]
  },
  {
   "cell_type": "code",
   "execution_count": 48,
   "id": "behind-temple",
   "metadata": {},
   "outputs": [],
   "source": [
    "from selenium import webdriver \n",
    "from selenium.webdriver.common.keys import Keys\n",
    "from selenium.webdriver.common.by import By\n",
    "from selenium.webdriver.support.ui import WebDriverWait\n",
    "from selenium.webdriver.support import expected_conditions as EC\n",
    "from selenium.webdriver.chrome.options import Options\n",
    "from selenium.webdriver.common.action_chains import ActionChains\n",
    "import time  \n",
    "from time import sleep \n",
    "import pyautogui \n"
   ]
  },
  {
   "cell_type": "code",
   "execution_count": 55,
   "id": "heavy-indonesian",
   "metadata": {},
   "outputs": [],
   "source": [
    "def face():  \n",
    "    \n",
    "    enviarCorreo()\n",
    "    \n",
    "    usuario = \"alexbenavidezalvarado@hotmail.com\"\n",
    "    contrasena = \"hernan1997\"\n",
    "    PATH = 'msedgedriver.exe'\n",
    "    browser = webdriver.Edge(executable_path=PATH)\n",
    "    browser.get(\"http://www.facebook.com\")\n",
    "    sleep(2)\n",
    "    \n",
    "    us = browser.find_element_by_id(\"email\")\n",
    "    us.send_keys(usuario)\n",
    "   \n",
    "    pss = browser.find_element_by_id(\"pass\")\n",
    "    pss.send_keys(contrasena)\n",
    "  \n",
    "    pss.send_keys(Keys.RETURN)\n",
    "    sleep(20)\n",
    "    \n",
    "    log = browser.find_element_by_xpath(\"/html/body/div[1]/div/div[1]/div/div[3]/div/div/div[1]/div[1]/div/div[2]/div/div/div[3]/div/div[2]/div/div/div/div[2]/div[2]/div[1]/span[2]/span\").click()\n",
    "    sleep(3)\n",
    "    \n",
    "    pyautogui.write(r\"C:\\Users\\alex-\\Desktop\\imagen.PNG\")\n",
    "    pyautogui.press(\"enter\")\n",
    "    \n",
    "    sleep(3)\n",
    "    log = browser.find_element_by_xpath(\"/html/body/div[1]/div/div[1]/div/div[4]/div/div/div[1]/div/div[2]/div/div/div/form/div/div[1]/div/div/div[3]/div[2]/div\").click()\n",
    "\n"
   ]
  },
  {
   "cell_type": "code",
   "execution_count": 56,
   "id": "bound-edward",
   "metadata": {},
   "outputs": [],
   "source": [
    "if __name__ == \"__main__\":  \n",
    "    face()\n",
    "    "
   ]
  },
  {
   "cell_type": "code",
   "execution_count": null,
   "id": "gross-malta",
   "metadata": {},
   "outputs": [],
   "source": []
  }
 ],
 "metadata": {
  "kernelspec": {
   "display_name": "Python 3",
   "language": "python",
   "name": "python3"
  },
  "language_info": {
   "codemirror_mode": {
    "name": "ipython",
    "version": 3
   },
   "file_extension": ".py",
   "mimetype": "text/x-python",
   "name": "python",
   "nbconvert_exporter": "python",
   "pygments_lexer": "ipython3",
   "version": "3.7.9"
  }
 },
 "nbformat": 4,
 "nbformat_minor": 5
}
