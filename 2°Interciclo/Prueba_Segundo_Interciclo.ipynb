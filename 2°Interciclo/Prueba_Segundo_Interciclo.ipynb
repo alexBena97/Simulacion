{
 "cells": [
  {
   "cell_type": "markdown",
   "id": "sound-breathing",
   "metadata": {},
   "source": [
    "## NOMBRE: ALEX BENAVIDEZ \n",
    "## MATERIA: SIMULACION \n",
    "## PROFESOR: DIEGO QUISI"
   ]
  },
  {
   "cell_type": "code",
   "execution_count": 48,
   "id": "thirty-london",
   "metadata": {},
   "outputs": [],
   "source": [
    "import numpy as np\n",
    "import math as mt\n",
    "import matplotlib.pyplot as plt"
   ]
  },
  {
   "cell_type": "code",
   "execution_count": 49,
   "id": "musical-glucose",
   "metadata": {},
   "outputs": [],
   "source": [
    "def MetodoConLineales(a,b,c,m,iteraciones): \n",
    "    lst=[] \n",
    "    for i in range(iteraciones):  \n",
    "        a = (a*b+c) % m\n",
    "        lst.append(round(a/m,2)) \n",
    "    return lst "
   ]
  },
  {
   "cell_type": "code",
   "execution_count": 50,
   "id": "turkish-penguin",
   "metadata": {},
   "outputs": [],
   "source": [
    "def obtenerPosicion(dgs): \n",
    "    vl = 0 \n",
    "    vl2 = 0 \n",
    "    if dgs%2 !=0:\n",
    "        vl = int(dgs/2)\n",
    "        vl2 = int(dgs/2)+1\n",
    "    else:\n",
    "        vl = int(dgs/2)\n",
    "        vl2 = vl\n",
    "    return vl,vl2"
   ]
  },
  {
   "cell_type": "code",
   "execution_count": 51,
   "id": "thermal-chess",
   "metadata": {},
   "outputs": [],
   "source": [
    "def cuadradosMedios(iteraciones,v,dgs): \n",
    "    sm = int(v) \n",
    "    lst=[]  \n",
    "    m = obtenerPosicion(dgs) \n",
    "    for i in range(iteraciones): \n",
    "        n = sm**2 \n",
    "        longuitud = len(str(n)) \n",
    "        u_i = str(n)[int(longuitud/2)-m[0]:int(longuitud/2)+m[1]] \n",
    "        #print(u_i)\n",
    "        lst.append(round(int(u_i)/10**digs,2))   \n",
    "        sm = int(u_i) \n",
    "    return lst "
   ]
  },
  {
   "cell_type": "code",
   "execution_count": 52,
   "id": "hydraulic-munich",
   "metadata": {},
   "outputs": [],
   "source": [
    "def get_list(n_gr,aum,lst): \n",
    "    variable = 0\n",
    "    g = []    \n",
    "    ran = n_gr+1 \n",
    "    num1 = 0\n",
    "    num2 = 1 \n",
    "    rgs = {}\n",
    "    for i in range(ran): \n",
    "        g.append(round(variable,2)) \n",
    "        variable = variable+aum   \n",
    "        \n",
    "    ran2 = len(g)-1\n",
    "    for i in range(ran2):\n",
    "        f = g[num1] \n",
    "        s = g[num2]  \n",
    "        rgs.update({str(f)+\",\"+str(s):[]}) \n",
    "        for i in lst: \n",
    "            if i!= 0: \n",
    "                if i >f and i <=s:\n",
    "                    rgs[str(f)+\",\"+str(s)].append(i) \n",
    "            else: \n",
    "                 if i >=f and i <=s:\n",
    "                    rgs[str(f)+\",\"+str(s)].append(i)\n",
    "        num1=num2\n",
    "        num2=num1+1  \n",
    "    return rgs"
   ]
  },
  {
   "cell_type": "code",
   "execution_count": 59,
   "id": "surrounded-bargain",
   "metadata": {},
   "outputs": [],
   "source": [
    "def metodo_chi(lst,v):  \n",
    "    n_gr = int(mt.sqrt(len(lst))) \n",
    "    aum = 1/n_gr \n",
    "    sumatoria = 0\n",
    "    diccionario = get_list(n_gr,aum,lst) \n",
    "    print(\" El intervalo: \", \"      Ei: \", \"       Oi: \", \" (Oi-Ei)^2/Ei:\")\n",
    "    for i, itr in enumerate(diccionario.items()): \n",
    "        oper = ((len(itr[1])-n_gr)**2)/n_gr \n",
    "        sumatoria+= oper  \n",
    "        txt = itr[0].split(',')\n",
    "        print(i, \"            \", str(n_gr)+\"(\"+txt[0]+\"-\"+txt[1]+\")     \", len(itr[1]),\"     \", oper)\n",
    "      \n",
    "    plt.figure(figsize=(8,8),facecolor='green',edgecolor='yellow')\n",
    "    plt.hist(lst,color='red')\n",
    "    plt.ylabel('FRECUENCIA') \n",
    "    plt.xlabel('VALORES')\n",
    "    plt.title('CHI CUADRADO') \n",
    "    plt.show()    \n",
    "    \n",
    "    if sumatoria < v: \n",
    "        return True \n",
    "    else: \n",
    "        return False"
   ]
  },
  {
   "cell_type": "code",
   "execution_count": 60,
   "id": "supreme-circular",
   "metadata": {
    "scrolled": false
   },
   "outputs": [
    {
     "name": "stdout",
     "output_type": "stream",
     "text": [
      "PRIMERA PARTE\n",
      " El intervalo:        Ei:         Oi:   (Oi-Ei)^2/Ei:\n",
      "0              10(0-0.1)      11       0.1\n",
      "1              10(0.1-0.2)      18       6.4\n",
      "2              10(0.2-0.3)      12       0.4\n",
      "3              10(0.3-0.4)      7       0.9\n",
      "4              10(0.4-0.5)      13       0.9\n",
      "5              10(0.5-0.6)      9       0.1\n",
      "6              10(0.6-0.7)      7       0.9\n",
      "7              10(0.7-0.8)      5       2.5\n",
      "8              10(0.8-0.9)      8       0.4\n",
      "9              10(0.9-1.0)      10       0.0\n"
     ]
    },
    {
     "data": {
      "image/png": "[encoded data removed]",
      "text/plain": [
       "<Figure size 576x576 with 1 Axes>"
      ]
     },
     "metadata": {},
     "output_type": "display_data"
    },
    {
     "name": "stdout",
     "output_type": "stream",
     "text": [
      "\n",
      "SEGUNDA PARTE\n",
      " El intervalo:        Ei:         Oi:   (Oi-Ei)^2/Ei:\n",
      "0              10(0-0.1)      11       0.1\n",
      "1              10(0.1-0.2)      11       0.1\n",
      "2              10(0.2-0.3)      0       10.0\n",
      "3              10(0.3-0.4)      22       14.4\n",
      "4              10(0.4-0.5)      0       10.0\n",
      "5              10(0.5-0.6)      0       10.0\n",
      "6              10(0.6-0.7)      11       0.1\n",
      "7              10(0.7-0.8)      11       0.1\n",
      "8              10(0.8-0.9)      23       16.9\n",
      "9              10(0.9-1.0)      11       0.1\n"
     ]
    },
    {
     "data": {
      "image/png": "[encoded data removed]",
      "text/plain": [
       "<Figure size 576x576 with 1 Axes>"
      ]
     },
     "metadata": {},
     "output_type": "display_data"
    }
   ],
   "source": [
    "if __name__ == \"__main__\":\n",
    "    iters = 100\n",
    "    v_obtenido= 16.9 \n",
    "    D = 7  \n",
    "    Xo = 74731897457  \n",
    "    b = 37747318974  \n",
    "    M = 19  \n",
    "    \n",
    "    print(\"PRIMERA PARTE\")\n",
    "    lista = cuadradosMedios(iters, Xo, 7)\n",
    "    res=metodo_chi(lista,v_obtenido)\n",
    "    print(\"\")\n",
    "    print(\"SEGUNDA PARTE\")\n",
    "    lista2 = MetodoConLineales(D,Xo,b,M,iters)\n",
    "    res2 = metodo_chi(lista2,v_obtenido)\n"
   ]
  },
  {
   "cell_type": "code",
   "execution_count": null,
   "id": "initial-oklahoma",
   "metadata": {},
   "outputs": [],
   "source": []
  }
 ],
 "metadata": {
  "kernelspec": {
   "display_name": "Python 3",
   "language": "python",
   "name": "python3"
  },
  "language_info": {
   "codemirror_mode": {
    "name": "ipython",
    "version": 3
   },
   "file_extension": ".py",
   "mimetype": "text/x-python",
   "name": "python",
   "nbconvert_exporter": "python",
   "pygments_lexer": "ipython3",
   "version": "3.7.9"
  }
 },
 "nbformat": 4,
 "nbformat_minor": 5
}
